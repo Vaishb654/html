{
  "nbformat": 4,
  "nbformat_minor": 0,
  "metadata": {
    "colab": {
      "provenance": [],
      "authorship_tag": "ABX9TyPaZO7W8p1CWA8KYWylwp+a",
      "include_colab_link": true
    },
    "kernelspec": {
      "name": "python3",
      "display_name": "Python 3"
    },
    "language_info": {
      "name": "python"
    }
  },
  "cells": [
    {
      "cell_type": "markdown",
      "metadata": {
        "id": "view-in-github",
        "colab_type": "text"
      },
      "source": [
        "<a href=\"https://colab.research.google.com/github/Vaishb654/html/blob/master/PractiseSession.ipynb\" target=\"_parent\"><img src=\"https://colab.research.google.com/assets/colab-badge.svg\" alt=\"Open In Colab\"/></a>"
      ]
    },
    {
      "cell_type": "code",
      "execution_count": 1,
      "metadata": {
        "colab": {
          "base_uri": "https://localhost:8080/"
        },
        "id": "j-EbaKH1NncD",
        "outputId": "fba382df-6f53-4368-b01c-1632bdf23262"
      },
      "outputs": [
        {
          "output_type": "stream",
          "name": "stdout",
          "text": [
            "Sum of 15 and 12 is 27\n"
          ]
        }
      ],
      "source": [
        "# Python3 program to add two numbers\n",
        "num1 = 15\n",
        "num2 = 12\n",
        "\n",
        "# Adding two nos\n",
        "sum = num1 + num2\n",
        "\n",
        "# printing values\n",
        "print(\"Sum of\", num1, \"and\", num2 , \"is\", sum)"
      ]
    },
    {
      "cell_type": "code",
      "source": [
        "# Python3 program to add two numbers\n",
        "\n",
        "number1 = input(\"First number: \")\n",
        "number2 = input(\"\\nSecond number: \")\n",
        "\n",
        "# Adding two numbers\n",
        "# User might also enter float numbers\n",
        "sum = float(number1) + float(number2)\n",
        "\n",
        "# Display the sum\n",
        "# will print value in float\n",
        "print(\"The sum of {0} and {1} is {2}\" .format(number1,\n",
        "                                            number2, sum))\n"
      ],
      "metadata": {
        "colab": {
          "base_uri": "https://localhost:8080/"
        },
        "id": "nRbs5AElN2LP",
        "outputId": "2260fc77-b58f-4fa0-cff6-6dc54663ee07"
      },
      "execution_count": 2,
      "outputs": [
        {
          "output_type": "stream",
          "name": "stdout",
          "text": [
            "First number: 90\n",
            "\n",
            "Second number: 80\n",
            "The sum of 90 and 80 is 170.0\n"
          ]
        }
      ]
    },
    {
      "cell_type": "markdown",
      "source": [
        "Defining add function and returning the result"
      ],
      "metadata": {
        "id": "G73hYWaoOBZ8"
      }
    },
    {
      "cell_type": "code",
      "source": [
        "#To define a function that take two integers\n",
        "# and return the sum of those two numbers\n",
        "def add(a,b):\n",
        "  return a+b\n",
        "\n",
        "#initializing the variables\n",
        "num1 = 10\n",
        "num2 = 5\n",
        "\n",
        "#function calling and store the result into sum_of_twonumbers\n",
        "sum_of_twonumbers = add(num1,num2)\n",
        "\n",
        "#To print the result\n",
        "print(\"Sum of {0} and {1} is {2};\" .format(num1,\n",
        "                           num2, sum_of_twonumbers))\n"
      ],
      "metadata": {
        "colab": {
          "base_uri": "https://localhost:8080/"
        },
        "id": "Vnpl3Wa3OCgE",
        "outputId": "5f6f384d-3e63-4f27-a686-e47ce63002a4"
      },
      "execution_count": 3,
      "outputs": [
        {
          "output_type": "stream",
          "name": "stdout",
          "text": [
            "Sum of 10 and 5 is 15;\n"
          ]
        }
      ]
    },
    {
      "cell_type": "markdown",
      "source": [
        "Add two numbers in Python using operator.add() method"
      ],
      "metadata": {
        "id": "1XKEbekZON0b"
      }
    },
    {
      "cell_type": "code",
      "source": [
        "# Python3 program to add two numbers\n",
        "\n",
        "num1 = 15\n",
        "num2 = 12\n",
        "\n",
        "# Adding two nos\n",
        "import operator\n",
        "su = operator.add(num1,num2)\n",
        "\n",
        "# printing values\n",
        "print(\"Sum of {0} and {1} is {2}\" .format(num1,\n",
        "                                       num2, su))\n"
      ],
      "metadata": {
        "colab": {
          "base_uri": "https://localhost:8080/"
        },
        "id": "4zO5XevCOOi0",
        "outputId": "7378d60f-7938-471c-c8dc-b16af72f3318"
      },
      "execution_count": 4,
      "outputs": [
        {
          "metadata": {
            "tags": null
          },
          "name": "stdout",
          "output_type": "stream",
          "text": [
            "Sum of 15 and 12 is 27\n"
          ]
        }
      ]
    },
    {
      "cell_type": "markdown",
      "source": [
        "Adding two number using lambda function"
      ],
      "metadata": {
        "id": "I7ljUnLVOWtK"
      }
    },
    {
      "cell_type": "code",
      "source": [
        "# Define a lambda function to add two numbers\n",
        "add_numbers = lambda x, y: x + y\n",
        "\n",
        "# Take input from the user\n",
        "num1 = 1\n",
        "num2 = 2\n",
        "\n",
        "# Call the lambda function to add the two numbers\n",
        "result = add_numbers(num1, num2)\n",
        "\n",
        "# Print the result\n",
        "print(\"The sum of\", num1, \"and\", num2, \"is\", result)"
      ],
      "metadata": {
        "colab": {
          "base_uri": "https://localhost:8080/"
        },
        "id": "Iw8933ypOXkc",
        "outputId": "75d9f477-0e79-4b33-bc95-c395154d2572"
      },
      "execution_count": 5,
      "outputs": [
        {
          "output_type": "stream",
          "name": "stdout",
          "text": [
            "The sum of 1 and 2 is 3\n"
          ]
        }
      ]
    },
    {
      "cell_type": "markdown",
      "source": [
        "Find Maximum of two numbers in Python"
      ],
      "metadata": {
        "id": "IkRavWlUOy97"
      }
    },
    {
      "cell_type": "code",
      "source": [
        "# Python program to find the\n",
        "# maximum of two numbers\n",
        "\n",
        "\n",
        "def maximum(a, b):\n",
        "\n",
        "    if a >= b:\n",
        "        return a\n",
        "    else:\n",
        "        return b\n",
        "\n",
        "# Driver code\n",
        "a = 2\n",
        "b = 4\n",
        "print(maximum(a, b))"
      ],
      "metadata": {
        "colab": {
          "base_uri": "https://localhost:8080/"
        },
        "id": "-jowHQEEO1Yl",
        "outputId": "a1fe192e-ed0b-4a6e-8eaa-d55a11ec00e9"
      },
      "execution_count": 6,
      "outputs": [
        {
          "output_type": "stream",
          "name": "stdout",
          "text": [
            "4\n"
          ]
        }
      ]
    },
    {
      "cell_type": "code",
      "source": [
        "# Python program to find the\n",
        "# maximum of two numbers\n",
        "\n",
        "\n",
        "a = 2\n",
        "b = 4\n",
        "\n",
        "maximum = max(a, b)\n",
        "print(maximum)"
      ],
      "metadata": {
        "colab": {
          "base_uri": "https://localhost:8080/"
        },
        "id": "wlmY_eAsO6tO",
        "outputId": "d476929d-52c6-4e72-b84e-5d95ea084c08"
      },
      "execution_count": 7,
      "outputs": [
        {
          "output_type": "stream",
          "name": "stdout",
          "text": [
            "4\n"
          ]
        }
      ]
    },
    {
      "cell_type": "markdown",
      "source": [
        "Maximum of two numbers Using Ternary Operator"
      ],
      "metadata": {
        "id": "czIkbmrAPZCk"
      }
    },
    {
      "cell_type": "code",
      "source": [
        "# Python program to find the\n",
        "# maximum of two numbers\n",
        "\n",
        "# Driver code\n",
        "a = 2\n",
        "b = 4\n",
        "\n",
        "# Use of ternary operator\n",
        "print(a if a >= b else b)"
      ],
      "metadata": {
        "colab": {
          "base_uri": "https://localhost:8080/"
        },
        "id": "uop38ZlDPc-0",
        "outputId": "a1b72ee4-7782-421d-891e-9fc1d5611071"
      },
      "execution_count": 8,
      "outputs": [
        {
          "output_type": "stream",
          "name": "stdout",
          "text": [
            "4\n"
          ]
        }
      ]
    },
    {
      "cell_type": "markdown",
      "source": [
        "Maximum of two numbers Using lambda function"
      ],
      "metadata": {
        "id": "zfy3d6W4P6tG"
      }
    },
    {
      "cell_type": "code",
      "source": [
        "# python code to find maximum of two numbers\n",
        "\n",
        "a=2;b=4\n",
        "maximum = lambda a,b:a if a > b else b\n",
        "print(f'{maximum(a,b)} is a maximum number')\n"
      ],
      "metadata": {
        "colab": {
          "base_uri": "https://localhost:8080/"
        },
        "id": "0br-5JrvP7d8",
        "outputId": "3eceffef-df5e-4e12-f0de-b1654705239b"
      },
      "execution_count": 9,
      "outputs": [
        {
          "output_type": "stream",
          "name": "stdout",
          "text": [
            "4 is a maximum number\n"
          ]
        }
      ]
    },
    {
      "cell_type": "markdown",
      "source": [
        "Maximum of two numbers Using list comprehension"
      ],
      "metadata": {
        "id": "rMPgoJO9QBuv"
      }
    },
    {
      "cell_type": "code",
      "source": [
        "\n",
        "\n",
        "a=2;b=4\n",
        "x=[a if a>b else b]\n",
        "print(\"maximum number is:\",x)"
      ],
      "metadata": {
        "colab": {
          "base_uri": "https://localhost:8080/"
        },
        "id": "qy96WUfDQEU_",
        "outputId": "9329002f-4cf7-4fb2-e53f-571f9a2bb1b1"
      },
      "execution_count": 10,
      "outputs": [
        {
          "output_type": "stream",
          "name": "stdout",
          "text": [
            "maximum number is: [4]\n"
          ]
        }
      ]
    },
    {
      "cell_type": "markdown",
      "source": [
        "Maximum of two numbers Using sort() method"
      ],
      "metadata": {
        "id": "AJ6YCcjMQI3l"
      }
    },
    {
      "cell_type": "code",
      "source": [
        "# Python program to find the\n",
        "# maximum of two numbers\n",
        "a = 2\n",
        "b = 4\n",
        "x=[a,b]\n",
        "x.sort()\n",
        "print(x[-1])"
      ],
      "metadata": {
        "colab": {
          "base_uri": "https://localhost:8080/"
        },
        "id": "zqQCPEAOQLx6",
        "outputId": "84116ecd-01a1-4b27-b2ce-3c3ca51273ba"
      },
      "execution_count": 11,
      "outputs": [
        {
          "output_type": "stream",
          "name": "stdout",
          "text": [
            "4\n"
          ]
        }
      ]
    },
    {
      "cell_type": "markdown",
      "source": [
        "Find the Factorial of a Number Using Recursive approach"
      ],
      "metadata": {
        "id": "w9c9blbdQeu7"
      }
    },
    {
      "cell_type": "code",
      "source": [
        "\n",
        "# Python 3 program to find\n",
        "# factorial of given number\n",
        "def factorial(n):\n",
        "\n",
        "    # single line to find factorial\n",
        "    return 1 if (n==1 or n==0) else n * factorial(n - 1)\n",
        "\n",
        "# Driver Code\n",
        "num = 5\n",
        "print(\"Factorial of\",num,\"is\",factorial(num))\n"
      ],
      "metadata": {
        "colab": {
          "base_uri": "https://localhost:8080/"
        },
        "id": "wn5Qn_tYQf5a",
        "outputId": "13fdca62-75a2-41e8-e7ab-66c16c86d307"
      },
      "execution_count": 12,
      "outputs": [
        {
          "output_type": "stream",
          "name": "stdout",
          "text": [
            "Factorial of 5 is 120\n"
          ]
        }
      ]
    },
    {
      "cell_type": "markdown",
      "source": [
        "Find the Factorial of a Number Using One line Solution (Using Ternary operator):"
      ],
      "metadata": {
        "id": "DSd7gkw_Qqlh"
      }
    },
    {
      "cell_type": "code",
      "source": [
        "# Python 3 program to find\n",
        "# factorial of given number\n",
        "\n",
        "def factorial(n):\n",
        "\n",
        "    # single line to find factorial\n",
        "    return 1 if (n==1 or n==0) else n * factorial(n - 1)\n",
        "\n",
        "\n",
        "# Driver Code\n",
        "num = 5\n",
        "print (\"Factorial of\",num,\"is\",\n",
        "      factorial(num))"
      ],
      "metadata": {
        "colab": {
          "base_uri": "https://localhost:8080/"
        },
        "id": "pHmq_8UhQvFV",
        "outputId": "54c285f4-ed2d-43a4-8416-e99836acc970"
      },
      "execution_count": 13,
      "outputs": [
        {
          "output_type": "stream",
          "name": "stdout",
          "text": [
            "Factorial of 5 is 120\n"
          ]
        }
      ]
    },
    {
      "cell_type": "markdown",
      "source": [
        "\n",
        "Python Program for simple interest"
      ],
      "metadata": {
        "id": "_Q8Je1SBQ5gc"
      }
    },
    {
      "cell_type": "code",
      "source": [
        "# Python3 program to find simple interest\n",
        "# for given principal amount, time and\n",
        "# rate of interest.\n",
        "\n",
        "\n",
        "def simple_interest(p,t,r):\n",
        "    print('The principal is', p)\n",
        "    print('The time period is', t)\n",
        "    print('The rate of interest is',r)\n",
        "\n",
        "    si = (p * t * r)/100\n",
        "\n",
        "    print('The Simple Interest is', si)\n",
        "    return si\n",
        "\n",
        "# Driver code\n",
        "simple_interest(8, 6, 8)"
      ],
      "metadata": {
        "colab": {
          "base_uri": "https://localhost:8080/"
        },
        "id": "1jSRVoRgQ_Aj",
        "outputId": "cda6654a-2cd7-4c6f-d7cc-38ca3fb6e37a"
      },
      "execution_count": 14,
      "outputs": [
        {
          "output_type": "stream",
          "name": "stdout",
          "text": [
            "The principal is 8\n",
            "The time period is 6\n",
            "The rate of interest is 8\n",
            "The Simple Interest is 3.84\n"
          ]
        },
        {
          "output_type": "execute_result",
          "data": {
            "text/plain": [
              "3.84"
            ]
          },
          "metadata": {},
          "execution_count": 14
        }
      ]
    },
    {
      "cell_type": "markdown",
      "source": [
        "Program for simple interest with Taking input from user"
      ],
      "metadata": {
        "id": "CiJWiA2LRF4d"
      }
    },
    {
      "cell_type": "code",
      "source": [
        "# Python3 program to find simple interest\n",
        "#  principal amount, time and\n",
        "# rate of interest taken from user.\n",
        "\n",
        "\n",
        "def simple_interest(p,t,r):\n",
        "    print('The principal is', p)\n",
        "    print('The time period is', t)\n",
        "    print('The rate of interest is',r)\n",
        "\n",
        "    si = (p * t * r)/100\n",
        "\n",
        "    print('The Simple Interest is', si)\n",
        "\n",
        "\n",
        "# Driver code\n",
        "P = int(input(\"Enter the principal amount :\"))\n",
        "T = int(input(\"Enter the time period :\"))\n",
        "R = int(input(\"Enter the rate of interest :\"))\n",
        "simple_interest(P,T,R)\n"
      ],
      "metadata": {
        "colab": {
          "base_uri": "https://localhost:8080/"
        },
        "id": "I_sa6sTjRJfd",
        "outputId": "0295a490-0e3f-4d8b-ebe1-b36e08545a47"
      },
      "execution_count": 16,
      "outputs": [
        {
          "output_type": "stream",
          "name": "stdout",
          "text": [
            "Enter the principal amount :3000\n",
            "Enter the time period :7\n",
            "Enter the rate of interest :1\n",
            "The principal is 3000\n",
            "The time period is 7\n",
            "The rate of interest is 1\n",
            "The Simple Interest is 210.0\n"
          ]
        }
      ]
    },
    {
      "cell_type": "markdown",
      "source": [
        "A = P(1 + R/100) t\n",
        "\n",
        "Compound Interest = A – P\n",
        "\n",
        "Where,\n",
        "\n",
        "A is amount\n",
        "P is the principal amount\n",
        "R is the rate and\n",
        "T is the time span"
      ],
      "metadata": {
        "id": "KoY19n-6RdsO"
      }
    },
    {
      "cell_type": "markdown",
      "source": [
        "Find Compound Interest with Python"
      ],
      "metadata": {
        "id": "nlnNLzINRiNf"
      }
    },
    {
      "cell_type": "code",
      "source": [
        "# Python3 program to find compound\n",
        "# interest for given values.\n",
        "\n",
        "\n",
        "def compound_interest(principal, rate, time):\n",
        "\n",
        "    # Calculates compound interest\n",
        "    Amount = principal * (pow((1 + rate / 100), time))\n",
        "    CI = Amount - principal\n",
        "    print(\"Compound interest is\", CI)\n",
        "\n",
        "\n",
        "# Driver Code\n",
        "compound_interest(10000, 10.25, 5)"
      ],
      "metadata": {
        "colab": {
          "base_uri": "https://localhost:8080/"
        },
        "id": "N6Ag4h-MRk_9",
        "outputId": "922e530d-6611-472d-ef60-0e4d786e2279"
      },
      "execution_count": 17,
      "outputs": [
        {
          "output_type": "stream",
          "name": "stdout",
          "text": [
            "Compound interest is 6288.946267774416\n"
          ]
        }
      ]
    },
    {
      "cell_type": "markdown",
      "source": [
        "Compound Interest with Input taking from user"
      ],
      "metadata": {
        "id": "2a4HF5XOSHv3"
      }
    },
    {
      "cell_type": "code",
      "source": [
        "# Python3 program to find compound\n",
        "# interest for input taking from user.\n",
        "\n",
        "\n",
        "def compound_interest(principal, rate, time):\n",
        "\n",
        "    # Calculates compound interest\n",
        "    Amount = principal * (pow((1 + rate / 100), time))\n",
        "    CI = Amount - principal\n",
        "    print(\"Compound interest is\", CI)\n",
        "\n",
        "\n",
        "# Driver Code\n",
        "#Taking input from user.\n",
        "principal = int(input(\"Enter the principal amount: \"))\n",
        "rate = int(input(\"Enter rate of interest: \"))\n",
        "time = int(input(\"Enter time in years: \" ))\n",
        "#Function Call\n",
        "compound_interest(principal,rate,time)\n",
        ""
      ],
      "metadata": {
        "colab": {
          "base_uri": "https://localhost:8080/"
        },
        "id": "2_RmvBdgSItL",
        "outputId": "8683fb3b-97a0-41cf-8e13-af5d950bbfd4"
      },
      "execution_count": 18,
      "outputs": [
        {
          "output_type": "stream",
          "name": "stdout",
          "text": [
            "Enter the principal amount: 3000\n",
            "Enter rate of interest: 5\n",
            "Enter time in years: 3\n",
            "Compound interest is 472.87500000000045\n"
          ]
        }
      ]
    },
    {
      "cell_type": "markdown",
      "source": [
        "Finding compound interest of given values without using pow() function.\n",
        "\n"
      ],
      "metadata": {
        "id": "Ui2HSX0nSV4l"
      }
    },
    {
      "cell_type": "code",
      "source": [
        "# Python code\n",
        "# To find compound interest\n",
        "\n",
        "# inputs\n",
        "p= 1200   # principal amount\n",
        "t= 2      # time\n",
        "r= 5.4    # rate\n",
        "# calculates the compound interest\n",
        "a=p*(1+(r/100))**t  # formula for calculating amount\n",
        "ci=a-p  # compound interest = amount - principal amount\n",
        "# printing compound interest value\n",
        "print(ci)"
      ],
      "metadata": {
        "colab": {
          "base_uri": "https://localhost:8080/"
        },
        "id": "WLurdOzUSWqo",
        "outputId": "80c36cf9-ea46-440e-b67e-43ca0fd6faef"
      },
      "execution_count": 19,
      "outputs": [
        {
          "output_type": "stream",
          "name": "stdout",
          "text": [
            "133.0992000000001\n"
          ]
        }
      ]
    },
    {
      "cell_type": "markdown",
      "source": [
        "Compound Interest using for loop"
      ],
      "metadata": {
        "id": "gPuGRAJWS6gW"
      }
    },
    {
      "cell_type": "code",
      "source": [
        "def compound_interest(principal, rate, time):\n",
        "    Amount = principal\n",
        "    for i in range(time):\n",
        "        Amount = Amount * (1 + rate/100)\n",
        "    CI = Amount - principal\n",
        "    print(\"Compound interest is\", CI)\n",
        "# Driver Code\n",
        "compound_interest(1200, 5.4, 2)"
      ],
      "metadata": {
        "colab": {
          "base_uri": "https://localhost:8080/"
        },
        "id": "hs-xJrP5S7xk",
        "outputId": "8926933d-9437-486f-e308-fe3197a678b5"
      },
      "execution_count": 20,
      "outputs": [
        {
          "output_type": "stream",
          "name": "stdout",
          "text": [
            "Compound interest is 133.0992000000001\n"
          ]
        }
      ]
    }
  ]
}